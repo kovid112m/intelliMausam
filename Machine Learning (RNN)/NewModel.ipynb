{
  "cells": [
    {
      "cell_type": "code",
      "execution_count": 1,
      "id": "7407e922",
      "metadata": {
        "id": "7407e922"
      },
      "outputs": [],
      "source": [
        "import numpy as np\n",
        "import pandas as pd\n",
        "import matplotlib.pyplot as plt\n",
        "import tensorflow as tf\n",
        "from tensorflow import keras\n",
        "from sklearn.metrics import r2_score, mean_squared_error\n",
        "import math"
      ]
    },
    {
      "cell_type": "code",
      "execution_count": 2,
      "id": "d9c58bbe",
      "metadata": {
        "id": "d9c58bbe"
      },
      "outputs": [],
      "source": [
        "from keras.layers import LSTM, Dense\n",
        "from keras.models import Sequential"
      ]
    },
    {
      "cell_type": "code",
      "execution_count": 46,
      "id": "591308ed",
      "metadata": {
        "id": "591308ed"
      },
      "outputs": [],
      "source": [
        "train = pd.read_csv('/content/traindata.csv')"
      ]
    },
    {
      "cell_type": "code",
      "execution_count": 47,
      "id": "ba58d48b",
      "metadata": {
        "colab": {
          "base_uri": "https://localhost:8080/",
          "height": 201
        },
        "id": "ba58d48b",
        "outputId": "8bf22729-2cf0-4163-f3bd-f9b1167323d3"
      },
      "outputs": [
        {
          "output_type": "execute_result",
          "data": {
            "text/plain": [
              "   Maximum  Minimum\n",
              "0       33       24\n",
              "1       30       22\n",
              "2       35       24\n",
              "3       33       22\n",
              "4       34       24"
            ],
            "text/html": [
              "\n",
              "  <div id=\"df-a01222de-ae75-4c5f-bc6b-b5c25562dd01\" class=\"colab-df-container\">\n",
              "    <div>\n",
              "<style scoped>\n",
              "    .dataframe tbody tr th:only-of-type {\n",
              "        vertical-align: middle;\n",
              "    }\n",
              "\n",
              "    .dataframe tbody tr th {\n",
              "        vertical-align: top;\n",
              "    }\n",
              "\n",
              "    .dataframe thead th {\n",
              "        text-align: right;\n",
              "    }\n",
              "</style>\n",
              "<table border=\"1\" class=\"dataframe\">\n",
              "  <thead>\n",
              "    <tr style=\"text-align: right;\">\n",
              "      <th></th>\n",
              "      <th>Maximum</th>\n",
              "      <th>Minimum</th>\n",
              "    </tr>\n",
              "  </thead>\n",
              "  <tbody>\n",
              "    <tr>\n",
              "      <th>0</th>\n",
              "      <td>33</td>\n",
              "      <td>24</td>\n",
              "    </tr>\n",
              "    <tr>\n",
              "      <th>1</th>\n",
              "      <td>30</td>\n",
              "      <td>22</td>\n",
              "    </tr>\n",
              "    <tr>\n",
              "      <th>2</th>\n",
              "      <td>35</td>\n",
              "      <td>24</td>\n",
              "    </tr>\n",
              "    <tr>\n",
              "      <th>3</th>\n",
              "      <td>33</td>\n",
              "      <td>22</td>\n",
              "    </tr>\n",
              "    <tr>\n",
              "      <th>4</th>\n",
              "      <td>34</td>\n",
              "      <td>24</td>\n",
              "    </tr>\n",
              "  </tbody>\n",
              "</table>\n",
              "</div>\n",
              "    <div class=\"colab-df-buttons\">\n",
              "\n",
              "  <div class=\"colab-df-container\">\n",
              "    <button class=\"colab-df-convert\" onclick=\"convertToInteractive('df-a01222de-ae75-4c5f-bc6b-b5c25562dd01')\"\n",
              "            title=\"Convert this dataframe to an interactive table.\"\n",
              "            style=\"display:none;\">\n",
              "\n",
              "  <svg xmlns=\"http://www.w3.org/2000/svg\" height=\"24px\" viewBox=\"0 -960 960 960\">\n",
              "    <path d=\"M120-120v-720h720v720H120Zm60-500h600v-160H180v160Zm220 220h160v-160H400v160Zm0 220h160v-160H400v160ZM180-400h160v-160H180v160Zm440 0h160v-160H620v160ZM180-180h160v-160H180v160Zm440 0h160v-160H620v160Z\"/>\n",
              "  </svg>\n",
              "    </button>\n",
              "\n",
              "  <style>\n",
              "    .colab-df-container {\n",
              "      display:flex;\n",
              "      gap: 12px;\n",
              "    }\n",
              "\n",
              "    .colab-df-convert {\n",
              "      background-color: #E8F0FE;\n",
              "      border: none;\n",
              "      border-radius: 50%;\n",
              "      cursor: pointer;\n",
              "      display: none;\n",
              "      fill: #1967D2;\n",
              "      height: 32px;\n",
              "      padding: 0 0 0 0;\n",
              "      width: 32px;\n",
              "    }\n",
              "\n",
              "    .colab-df-convert:hover {\n",
              "      background-color: #E2EBFA;\n",
              "      box-shadow: 0px 1px 2px rgba(60, 64, 67, 0.3), 0px 1px 3px 1px rgba(60, 64, 67, 0.15);\n",
              "      fill: #174EA6;\n",
              "    }\n",
              "\n",
              "    .colab-df-buttons div {\n",
              "      margin-bottom: 4px;\n",
              "    }\n",
              "\n",
              "    [theme=dark] .colab-df-convert {\n",
              "      background-color: #3B4455;\n",
              "      fill: #D2E3FC;\n",
              "    }\n",
              "\n",
              "    [theme=dark] .colab-df-convert:hover {\n",
              "      background-color: #434B5C;\n",
              "      box-shadow: 0px 1px 3px 1px rgba(0, 0, 0, 0.15);\n",
              "      filter: drop-shadow(0px 1px 2px rgba(0, 0, 0, 0.3));\n",
              "      fill: #FFFFFF;\n",
              "    }\n",
              "  </style>\n",
              "\n",
              "    <script>\n",
              "      const buttonEl =\n",
              "        document.querySelector('#df-a01222de-ae75-4c5f-bc6b-b5c25562dd01 button.colab-df-convert');\n",
              "      buttonEl.style.display =\n",
              "        google.colab.kernel.accessAllowed ? 'block' : 'none';\n",
              "\n",
              "      async function convertToInteractive(key) {\n",
              "        const element = document.querySelector('#df-a01222de-ae75-4c5f-bc6b-b5c25562dd01');\n",
              "        const dataTable =\n",
              "          await google.colab.kernel.invokeFunction('convertToInteractive',\n",
              "                                                    [key], {});\n",
              "        if (!dataTable) return;\n",
              "\n",
              "        const docLinkHtml = 'Like what you see? Visit the ' +\n",
              "          '<a target=\"_blank\" href=https://colab.research.google.com/notebooks/data_table.ipynb>data table notebook</a>'\n",
              "          + ' to learn more about interactive tables.';\n",
              "        element.innerHTML = '';\n",
              "        dataTable['output_type'] = 'display_data';\n",
              "        await google.colab.output.renderOutput(dataTable, element);\n",
              "        const docLink = document.createElement('div');\n",
              "        docLink.innerHTML = docLinkHtml;\n",
              "        element.appendChild(docLink);\n",
              "      }\n",
              "    </script>\n",
              "  </div>\n",
              "\n",
              "\n",
              "<div id=\"df-7ca4e808-4039-4dc1-a386-5a5d8cc0aa69\">\n",
              "  <button class=\"colab-df-quickchart\" onclick=\"quickchart('df-7ca4e808-4039-4dc1-a386-5a5d8cc0aa69')\"\n",
              "            title=\"Suggest charts\"\n",
              "            style=\"display:none;\">\n",
              "\n",
              "<svg xmlns=\"http://www.w3.org/2000/svg\" height=\"24px\"viewBox=\"0 0 24 24\"\n",
              "     width=\"24px\">\n",
              "    <g>\n",
              "        <path d=\"M19 3H5c-1.1 0-2 .9-2 2v14c0 1.1.9 2 2 2h14c1.1 0 2-.9 2-2V5c0-1.1-.9-2-2-2zM9 17H7v-7h2v7zm4 0h-2V7h2v10zm4 0h-2v-4h2v4z\"/>\n",
              "    </g>\n",
              "</svg>\n",
              "  </button>\n",
              "\n",
              "<style>\n",
              "  .colab-df-quickchart {\n",
              "      --bg-color: #E8F0FE;\n",
              "      --fill-color: #1967D2;\n",
              "      --hover-bg-color: #E2EBFA;\n",
              "      --hover-fill-color: #174EA6;\n",
              "      --disabled-fill-color: #AAA;\n",
              "      --disabled-bg-color: #DDD;\n",
              "  }\n",
              "\n",
              "  [theme=dark] .colab-df-quickchart {\n",
              "      --bg-color: #3B4455;\n",
              "      --fill-color: #D2E3FC;\n",
              "      --hover-bg-color: #434B5C;\n",
              "      --hover-fill-color: #FFFFFF;\n",
              "      --disabled-bg-color: #3B4455;\n",
              "      --disabled-fill-color: #666;\n",
              "  }\n",
              "\n",
              "  .colab-df-quickchart {\n",
              "    background-color: var(--bg-color);\n",
              "    border: none;\n",
              "    border-radius: 50%;\n",
              "    cursor: pointer;\n",
              "    display: none;\n",
              "    fill: var(--fill-color);\n",
              "    height: 32px;\n",
              "    padding: 0;\n",
              "    width: 32px;\n",
              "  }\n",
              "\n",
              "  .colab-df-quickchart:hover {\n",
              "    background-color: var(--hover-bg-color);\n",
              "    box-shadow: 0 1px 2px rgba(60, 64, 67, 0.3), 0 1px 3px 1px rgba(60, 64, 67, 0.15);\n",
              "    fill: var(--button-hover-fill-color);\n",
              "  }\n",
              "\n",
              "  .colab-df-quickchart-complete:disabled,\n",
              "  .colab-df-quickchart-complete:disabled:hover {\n",
              "    background-color: var(--disabled-bg-color);\n",
              "    fill: var(--disabled-fill-color);\n",
              "    box-shadow: none;\n",
              "  }\n",
              "\n",
              "  .colab-df-spinner {\n",
              "    border: 2px solid var(--fill-color);\n",
              "    border-color: transparent;\n",
              "    border-bottom-color: var(--fill-color);\n",
              "    animation:\n",
              "      spin 1s steps(1) infinite;\n",
              "  }\n",
              "\n",
              "  @keyframes spin {\n",
              "    0% {\n",
              "      border-color: transparent;\n",
              "      border-bottom-color: var(--fill-color);\n",
              "      border-left-color: var(--fill-color);\n",
              "    }\n",
              "    20% {\n",
              "      border-color: transparent;\n",
              "      border-left-color: var(--fill-color);\n",
              "      border-top-color: var(--fill-color);\n",
              "    }\n",
              "    30% {\n",
              "      border-color: transparent;\n",
              "      border-left-color: var(--fill-color);\n",
              "      border-top-color: var(--fill-color);\n",
              "      border-right-color: var(--fill-color);\n",
              "    }\n",
              "    40% {\n",
              "      border-color: transparent;\n",
              "      border-right-color: var(--fill-color);\n",
              "      border-top-color: var(--fill-color);\n",
              "    }\n",
              "    60% {\n",
              "      border-color: transparent;\n",
              "      border-right-color: var(--fill-color);\n",
              "    }\n",
              "    80% {\n",
              "      border-color: transparent;\n",
              "      border-right-color: var(--fill-color);\n",
              "      border-bottom-color: var(--fill-color);\n",
              "    }\n",
              "    90% {\n",
              "      border-color: transparent;\n",
              "      border-bottom-color: var(--fill-color);\n",
              "    }\n",
              "  }\n",
              "</style>\n",
              "\n",
              "  <script>\n",
              "    async function quickchart(key) {\n",
              "      const quickchartButtonEl =\n",
              "        document.querySelector('#' + key + ' button');\n",
              "      quickchartButtonEl.disabled = true;  // To prevent multiple clicks.\n",
              "      quickchartButtonEl.classList.add('colab-df-spinner');\n",
              "      try {\n",
              "        const charts = await google.colab.kernel.invokeFunction(\n",
              "            'suggestCharts', [key], {});\n",
              "      } catch (error) {\n",
              "        console.error('Error during call to suggestCharts:', error);\n",
              "      }\n",
              "      quickchartButtonEl.classList.remove('colab-df-spinner');\n",
              "      quickchartButtonEl.classList.add('colab-df-quickchart-complete');\n",
              "    }\n",
              "    (() => {\n",
              "      let quickchartButtonEl =\n",
              "        document.querySelector('#df-7ca4e808-4039-4dc1-a386-5a5d8cc0aa69 button');\n",
              "      quickchartButtonEl.style.display =\n",
              "        google.colab.kernel.accessAllowed ? 'block' : 'none';\n",
              "    })();\n",
              "  </script>\n",
              "</div>\n",
              "\n",
              "    </div>\n",
              "  </div>\n"
            ]
          },
          "metadata": {},
          "execution_count": 47
        }
      ],
      "source": [
        "train.head()"
      ]
    },
    {
      "cell_type": "code",
      "execution_count": 48,
      "id": "cbb6ee5d",
      "metadata": {
        "id": "cbb6ee5d"
      },
      "outputs": [],
      "source": [
        "max_training_data = train['Maximum']\n",
        "min_training_data = train['Minimum']"
      ]
    },
    {
      "cell_type": "code",
      "execution_count": 49,
      "id": "7a0b667e",
      "metadata": {
        "id": "7a0b667e"
      },
      "outputs": [],
      "source": [
        "max_training_data = np.array(max_training_data)\n",
        "min_training_data = np.array(min_training_data)"
      ]
    },
    {
      "cell_type": "code",
      "source": [
        "plt.plot(max_training_data, color='red')\n",
        "plt.plot(min_training_data, color='blue')"
      ],
      "metadata": {
        "colab": {
          "base_uri": "https://localhost:8080/",
          "height": 445
        },
        "id": "bF0CmZcX8n0o",
        "outputId": "2181a3dd-0721-449a-84ef-7bdddcfe0481"
      },
      "id": "bF0CmZcX8n0o",
      "execution_count": 50,
      "outputs": [
        {
          "output_type": "execute_result",
          "data": {
            "text/plain": [
              "[<matplotlib.lines.Line2D at 0x7fef18fe8b50>]"
            ]
          },
          "metadata": {},
          "execution_count": 50
        },
        {
          "output_type": "display_data",
          "data": {
            "text/plain": [
              "<Figure size 640x480 with 1 Axes>"
            ],
            "image/png": "[encoded data removed]"
          },
          "metadata": {}
        }
      ]
    },
    {
      "cell_type": "code",
      "execution_count": 51,
      "id": "a58fd154",
      "metadata": {
        "id": "a58fd154"
      },
      "outputs": [],
      "source": [
        "def prepare_data(data, n_steps):\n",
        "    X, y = [], []\n",
        "    for i in range(len(data)):\n",
        "        end = i + n_steps\n",
        "        if end >= len(data):\n",
        "            break\n",
        "        X.append(data[i:end])\n",
        "        y.append(data[end])\n",
        "    return np.array(X), np.array(y)"
      ]
    },
    {
      "cell_type": "code",
      "execution_count": 52,
      "id": "6be94bc9",
      "metadata": {
        "id": "6be94bc9"
      },
      "outputs": [],
      "source": [
        "n_steps = 5\n",
        "X, y = prepare_data(max_training_data, n_steps)"
      ]
    },
    {
      "cell_type": "code",
      "execution_count": 53,
      "id": "a4949e33",
      "metadata": {
        "colab": {
          "base_uri": "https://localhost:8080/"
        },
        "id": "a4949e33",
        "outputId": "46b38f89-aa09-400f-d4da-9da52133ba4a"
      },
      "outputs": [
        {
          "output_type": "stream",
          "name": "stdout",
          "text": [
            "[[33 30 35 33 34]\n",
            " [30 35 33 34 35]\n",
            " [35 33 34 35 35]\n",
            " [33 34 35 35 34]\n",
            " [34 35 35 34 33]\n",
            " [35 35 34 33 34]\n",
            " [35 34 33 34 28]\n",
            " [34 33 34 28 31]\n",
            " [33 34 28 31 35]\n",
            " [34 28 31 35 35]\n",
            " [28 31 35 35 34]\n",
            " [31 35 35 34 28]\n",
            " [35 35 34 28 31]\n",
            " [35 34 28 31 29]\n",
            " [34 28 31 29 33]\n",
            " [28 31 29 33 31]\n",
            " [31 29 33 31 34]\n",
            " [29 33 31 34 31]\n",
            " [33 31 34 31 35]\n",
            " [31 34 31 35 31]\n",
            " [34 31 35 31 35]\n",
            " [31 35 31 35 36]\n",
            " [35 31 35 36 32]\n",
            " [31 35 36 32 35]\n",
            " [35 36 32 35 31]\n",
            " [36 32 35 31 35]\n",
            " [32 35 31 35 33]]\n"
          ]
        }
      ],
      "source": [
        "print(X)"
      ]
    },
    {
      "cell_type": "code",
      "execution_count": 54,
      "id": "abb37c75",
      "metadata": {
        "colab": {
          "base_uri": "https://localhost:8080/"
        },
        "id": "abb37c75",
        "outputId": "c68008a3-2ad8-4d4b-8e1b-52292d59b295"
      },
      "outputs": [
        {
          "output_type": "stream",
          "name": "stdout",
          "text": [
            "[35 35 34 33 34 28 31 35 35 34 28 31 29 33 31 34 31 35 31 35 36 32 35 31\n",
            " 35 33 35]\n"
          ]
        }
      ],
      "source": [
        "print(y)"
      ]
    },
    {
      "cell_type": "code",
      "execution_count": 55,
      "id": "f6cd8e16",
      "metadata": {
        "id": "f6cd8e16"
      },
      "outputs": [],
      "source": [
        "n_features = 1\n",
        "X = X.reshape(X.shape[0], X.shape[1], n_features)"
      ]
    },
    {
      "cell_type": "code",
      "execution_count": 56,
      "id": "3b2abd5c",
      "metadata": {
        "colab": {
          "base_uri": "https://localhost:8080/"
        },
        "id": "3b2abd5c",
        "outputId": "1874d2b6-d678-40d8-d577-3f3da521bf0a"
      },
      "outputs": [
        {
          "output_type": "execute_result",
          "data": {
            "text/plain": [
              "(27, 5, 1)"
            ]
          },
          "metadata": {},
          "execution_count": 56
        }
      ],
      "source": [
        "X.shape"
      ]
    },
    {
      "cell_type": "code",
      "execution_count": 57,
      "id": "4e3e529d",
      "metadata": {
        "id": "4e3e529d"
      },
      "outputs": [],
      "source": [
        "model = Sequential()"
      ]
    },
    {
      "cell_type": "code",
      "execution_count": 58,
      "id": "11fdb5bd",
      "metadata": {
        "colab": {
          "base_uri": "https://localhost:8080/"
        },
        "id": "11fdb5bd",
        "outputId": "83341dc3-ac48-4565-da17-c5594b1284b3"
      },
      "outputs": [
        {
          "output_type": "stream",
          "name": "stdout",
          "text": [
            "Epoch 1/100\n",
            "1/1 [==============================] - 3s 3s/step - loss: 1205.5718\n",
            "Epoch 2/100\n",
            "1/1 [==============================] - 0s 18ms/step - loss: 1190.7047\n",
            "Epoch 3/100\n",
            "1/1 [==============================] - 0s 16ms/step - loss: 1176.6433\n",
            "Epoch 4/100\n",
            "1/1 [==============================] - 0s 16ms/step - loss: 1163.2623\n",
            "Epoch 5/100\n",
            "1/1 [==============================] - 0s 17ms/step - loss: 1150.4351\n",
            "Epoch 6/100\n",
            "1/1 [==============================] - 0s 21ms/step - loss: 1138.0377\n",
            "Epoch 7/100\n",
            "1/1 [==============================] - 0s 16ms/step - loss: 1125.9681\n",
            "Epoch 8/100\n",
            "1/1 [==============================] - 0s 21ms/step - loss: 1114.1085\n",
            "Epoch 9/100\n",
            "1/1 [==============================] - 0s 18ms/step - loss: 1102.3308\n",
            "Epoch 10/100\n",
            "1/1 [==============================] - 0s 15ms/step - loss: 1090.4978\n",
            "Epoch 11/100\n",
            "1/1 [==============================] - 0s 16ms/step - loss: 1078.4666\n",
            "Epoch 12/100\n",
            "1/1 [==============================] - 0s 20ms/step - loss: 1066.0591\n",
            "Epoch 13/100\n",
            "1/1 [==============================] - 0s 16ms/step - loss: 1053.1439\n",
            "Epoch 14/100\n",
            "1/1 [==============================] - 0s 16ms/step - loss: 1039.6171\n",
            "Epoch 15/100\n",
            "1/1 [==============================] - 0s 18ms/step - loss: 1025.3398\n",
            "Epoch 16/100\n",
            "1/1 [==============================] - 0s 18ms/step - loss: 1010.1867\n",
            "Epoch 17/100\n",
            "1/1 [==============================] - 0s 16ms/step - loss: 994.0276\n",
            "Epoch 18/100\n",
            "1/1 [==============================] - 0s 19ms/step - loss: 976.6364\n",
            "Epoch 19/100\n",
            "1/1 [==============================] - 0s 18ms/step - loss: 957.8997\n",
            "Epoch 20/100\n",
            "1/1 [==============================] - 0s 15ms/step - loss: 937.4196\n",
            "Epoch 21/100\n",
            "1/1 [==============================] - 0s 19ms/step - loss: 914.3616\n",
            "Epoch 22/100\n",
            "1/1 [==============================] - 0s 17ms/step - loss: 888.7584\n",
            "Epoch 23/100\n",
            "1/1 [==============================] - 0s 18ms/step - loss: 860.6348\n",
            "Epoch 24/100\n",
            "1/1 [==============================] - 0s 23ms/step - loss: 829.2374\n",
            "Epoch 25/100\n",
            "1/1 [==============================] - 0s 20ms/step - loss: 793.2197\n",
            "Epoch 26/100\n",
            "1/1 [==============================] - 0s 19ms/step - loss: 751.4351\n",
            "Epoch 27/100\n",
            "1/1 [==============================] - 0s 18ms/step - loss: 702.7261\n",
            "Epoch 28/100\n",
            "1/1 [==============================] - 0s 20ms/step - loss: 645.7958\n",
            "Epoch 29/100\n",
            "1/1 [==============================] - 0s 17ms/step - loss: 579.4937\n",
            "Epoch 30/100\n",
            "1/1 [==============================] - 0s 17ms/step - loss: 503.0840\n",
            "Epoch 31/100\n",
            "1/1 [==============================] - 0s 18ms/step - loss: 416.7660\n",
            "Epoch 32/100\n",
            "1/1 [==============================] - 0s 19ms/step - loss: 322.9975\n",
            "Epoch 33/100\n",
            "1/1 [==============================] - 0s 18ms/step - loss: 227.5798\n",
            "Epoch 34/100\n",
            "1/1 [==============================] - 0s 18ms/step - loss: 138.9666\n",
            "Epoch 35/100\n",
            "1/1 [==============================] - 0s 17ms/step - loss: 66.4084\n",
            "Epoch 36/100\n",
            "1/1 [==============================] - 0s 18ms/step - loss: 19.5981\n",
            "Epoch 37/100\n",
            "1/1 [==============================] - 0s 18ms/step - loss: 9.0579\n",
            "Epoch 38/100\n",
            "1/1 [==============================] - 0s 18ms/step - loss: 41.0187\n",
            "Epoch 39/100\n",
            "1/1 [==============================] - 0s 17ms/step - loss: 90.5128\n",
            "Epoch 40/100\n",
            "1/1 [==============================] - 0s 19ms/step - loss: 118.1992\n",
            "Epoch 41/100\n",
            "1/1 [==============================] - 0s 18ms/step - loss: 115.1493\n",
            "Epoch 42/100\n",
            "1/1 [==============================] - 0s 20ms/step - loss: 93.0250\n",
            "Epoch 43/100\n",
            "1/1 [==============================] - 0s 18ms/step - loss: 64.8404\n",
            "Epoch 44/100\n",
            "1/1 [==============================] - 0s 18ms/step - loss: 39.4027\n",
            "Epoch 45/100\n",
            "1/1 [==============================] - 0s 17ms/step - loss: 21.0812\n",
            "Epoch 46/100\n",
            "1/1 [==============================] - 0s 19ms/step - loss: 10.7080\n",
            "Epoch 47/100\n",
            "1/1 [==============================] - 0s 17ms/step - loss: 7.2181\n",
            "Epoch 48/100\n",
            "1/1 [==============================] - 0s 18ms/step - loss: 8.8312\n",
            "Epoch 49/100\n",
            "1/1 [==============================] - 0s 21ms/step - loss: 13.4084\n",
            "Epoch 50/100\n",
            "1/1 [==============================] - 0s 18ms/step - loss: 18.8954\n",
            "Epoch 51/100\n",
            "1/1 [==============================] - 0s 17ms/step - loss: 23.7060\n",
            "Epoch 52/100\n",
            "1/1 [==============================] - 0s 17ms/step - loss: 26.9024\n",
            "Epoch 53/100\n",
            "1/1 [==============================] - 0s 17ms/step - loss: 28.1222\n",
            "Epoch 54/100\n",
            "1/1 [==============================] - 0s 18ms/step - loss: 27.4551\n",
            "Epoch 55/100\n",
            "1/1 [==============================] - 0s 17ms/step - loss: 25.2330\n",
            "Epoch 56/100\n",
            "1/1 [==============================] - 0s 18ms/step - loss: 21.9568\n",
            "Epoch 57/100\n",
            "1/1 [==============================] - 0s 18ms/step - loss: 18.1830\n",
            "Epoch 58/100\n",
            "1/1 [==============================] - 0s 19ms/step - loss: 14.4520\n",
            "Epoch 59/100\n",
            "1/1 [==============================] - 0s 17ms/step - loss: 11.2366\n",
            "Epoch 60/100\n",
            "1/1 [==============================] - 0s 18ms/step - loss: 8.8754\n",
            "Epoch 61/100\n",
            "1/1 [==============================] - 0s 17ms/step - loss: 7.5381\n",
            "Epoch 62/100\n",
            "1/1 [==============================] - 0s 16ms/step - loss: 7.2190\n",
            "Epoch 63/100\n",
            "1/1 [==============================] - 0s 17ms/step - loss: 7.7350\n",
            "Epoch 64/100\n",
            "1/1 [==============================] - 0s 19ms/step - loss: 8.7850\n",
            "Epoch 65/100\n",
            "1/1 [==============================] - 0s 17ms/step - loss: 9.9958\n",
            "Epoch 66/100\n",
            "1/1 [==============================] - 0s 17ms/step - loss: 11.0225\n",
            "Epoch 67/100\n",
            "1/1 [==============================] - 0s 17ms/step - loss: 11.6141\n",
            "Epoch 68/100\n",
            "1/1 [==============================] - 0s 18ms/step - loss: 11.6624\n",
            "Epoch 69/100\n",
            "1/1 [==============================] - 0s 18ms/step - loss: 11.2058\n",
            "Epoch 70/100\n",
            "1/1 [==============================] - 0s 20ms/step - loss: 10.3895\n",
            "Epoch 71/100\n",
            "1/1 [==============================] - 0s 18ms/step - loss: 9.4194\n",
            "Epoch 72/100\n",
            "1/1 [==============================] - 0s 26ms/step - loss: 8.4962\n",
            "Epoch 73/100\n",
            "1/1 [==============================] - 0s 28ms/step - loss: 7.7704\n",
            "Epoch 74/100\n",
            "1/1 [==============================] - 0s 18ms/step - loss: 7.3229\n",
            "Epoch 75/100\n",
            "1/1 [==============================] - 0s 18ms/step - loss: 7.1641\n",
            "Epoch 76/100\n",
            "1/1 [==============================] - 0s 19ms/step - loss: 7.2417\n",
            "Epoch 77/100\n",
            "1/1 [==============================] - 0s 18ms/step - loss: 7.4729\n",
            "Epoch 78/100\n",
            "1/1 [==============================] - 0s 19ms/step - loss: 7.7642\n",
            "Epoch 79/100\n",
            "1/1 [==============================] - 0s 19ms/step - loss: 8.0308\n",
            "Epoch 80/100\n",
            "1/1 [==============================] - 0s 18ms/step - loss: 8.2107\n",
            "Epoch 81/100\n",
            "1/1 [==============================] - 0s 18ms/step - loss: 8.2721\n",
            "Epoch 82/100\n",
            "1/1 [==============================] - 0s 18ms/step - loss: 8.2125\n",
            "Epoch 83/100\n",
            "1/1 [==============================] - 0s 18ms/step - loss: 8.0541\n",
            "Epoch 84/100\n",
            "1/1 [==============================] - 0s 21ms/step - loss: 7.8351\n",
            "Epoch 85/100\n",
            "1/1 [==============================] - 0s 18ms/step - loss: 7.5999\n",
            "Epoch 86/100\n",
            "1/1 [==============================] - 0s 20ms/step - loss: 7.3898\n",
            "Epoch 87/100\n",
            "1/1 [==============================] - 0s 21ms/step - loss: 7.2352\n",
            "Epoch 88/100\n",
            "1/1 [==============================] - 0s 17ms/step - loss: 7.1513\n",
            "Epoch 89/100\n",
            "1/1 [==============================] - 0s 23ms/step - loss: 7.1374\n",
            "Epoch 90/100\n",
            "1/1 [==============================] - 0s 18ms/step - loss: 7.1788\n",
            "Epoch 91/100\n",
            "1/1 [==============================] - 0s 21ms/step - loss: 7.2512\n",
            "Epoch 92/100\n",
            "1/1 [==============================] - 0s 19ms/step - loss: 7.3281\n",
            "Epoch 93/100\n",
            "1/1 [==============================] - 0s 19ms/step - loss: 7.3870\n",
            "Epoch 94/100\n",
            "1/1 [==============================] - 0s 19ms/step - loss: 7.4134\n",
            "Epoch 95/100\n",
            "1/1 [==============================] - 0s 19ms/step - loss: 7.4034\n",
            "Epoch 96/100\n",
            "1/1 [==============================] - 0s 20ms/step - loss: 7.3621\n",
            "Epoch 97/100\n",
            "1/1 [==============================] - 0s 21ms/step - loss: 7.3010\n",
            "Epoch 98/100\n",
            "1/1 [==============================] - 0s 20ms/step - loss: 7.2346\n",
            "Epoch 99/100\n",
            "1/1 [==============================] - 0s 23ms/step - loss: 7.1761\n",
            "Epoch 100/100\n",
            "1/1 [==============================] - 0s 20ms/step - loss: 7.1345\n"
          ]
        },
        {
          "output_type": "execute_result",
          "data": {
            "text/plain": [
              "<keras.src.callbacks.History at 0x7fef19358850>"
            ]
          },
          "metadata": {},
          "execution_count": 58
        }
      ],
      "source": [
        "model.add(LSTM(31, activation='relu', return_sequences = True, input_shape=(n_steps, n_features)))\n",
        "model.add(LSTM(31, activation='relu'))\n",
        "model.add(Dense(1))\n",
        "model.compile(optimizer = 'adam', loss = 'mse')\n",
        "model.fit(X, y, epochs=100, verbose=1)"
      ]
    },
    {
      "cell_type": "code",
      "source": [
        "x_input = np.array(pd.read_csv('/content/testdata.csv')['Maximum'][-n_steps:])\n",
        "temp_input = list(x_input)\n",
        "output = []\n",
        "i = 0\n",
        "while(i < n_steps):\n",
        "    if len(temp_input) > n_steps:\n",
        "        x_input = np.array(temp_input[1:])\n",
        "        x_input = x_input.reshape((1, n_steps, n_features))\n",
        "        yhat = model.predict(x_input, verbose=0)\n",
        "        temp_input.append(yhat[0][0])\n",
        "        temp_input = temp_input[1:]\n",
        "        output.append(yhat[0][0])\n",
        "        i+=1\n",
        "    else:\n",
        "        x_input = x_input.reshape((1, n_steps, n_features))\n",
        "        yhat = model.predict(x_input, verbose=0)\n",
        "        temp_input.append(yhat[0][0])\n",
        "        output.append(yhat[0][0])\n",
        "        i+=1\n",
        "\n",
        "output = [round(i) for i in output]"
      ],
      "metadata": {
        "id": "sLQBKMm6-2VE"
      },
      "id": "sLQBKMm6-2VE",
      "execution_count": 59,
      "outputs": []
    },
    {
      "cell_type": "code",
      "execution_count": 60,
      "id": "e47166d3",
      "metadata": {
        "id": "e47166d3"
      },
      "outputs": [],
      "source": [
        "real_temperatures = [29, 31, 31, 31, 30]"
      ]
    },
    {
      "cell_type": "code",
      "execution_count": 61,
      "id": "a4686d82",
      "metadata": {
        "colab": {
          "base_uri": "https://localhost:8080/",
          "height": 598
        },
        "id": "a4686d82",
        "outputId": "01f3463c-7833-46c6-cd57-c6c73fa977c6"
      },
      "outputs": [
        {
          "output_type": "execute_result",
          "data": {
            "text/plain": [
              "([<matplotlib.axis.YTick at 0x7fef074596f0>,\n",
              "  <matplotlib.axis.YTick at 0x7fef07459090>,\n",
              "  <matplotlib.axis.YTick at 0x7fef07d6e200>,\n",
              "  <matplotlib.axis.YTick at 0x7fef0743bc40>,\n",
              "  <matplotlib.axis.YTick at 0x7fef0743ba30>],\n",
              " [Text(0, 15.0, '15.00'),\n",
              "  Text(0, 21.25, '21.25'),\n",
              "  Text(0, 27.5, '27.50'),\n",
              "  Text(0, 33.75, '33.75'),\n",
              "  Text(0, 40.0, '40.00')])"
            ]
          },
          "metadata": {},
          "execution_count": 61
        },
        {
          "output_type": "display_data",
          "data": {
            "text/plain": [
              "<Figure size 640x480 with 1 Axes>"
            ],
            "image/png": "[encoded data removed]"
          },
          "metadata": {}
        }
      ],
      "source": [
        "plt.plot(real_temperatures, color = 'orange')\n",
        "plt.plot(output, color = 'green')\n",
        "plt.xticks(list(range(5)))\n",
        "plt.yticks(np.linspace(15, 40, 5))"
      ]
    },
    {
      "cell_type": "code",
      "execution_count": 79,
      "id": "00b981f1",
      "metadata": {
        "id": "00b981f1"
      },
      "outputs": [],
      "source": [
        "def predictTemperatureMax():\n",
        "    #Importing the required libraries\n",
        "    import numpy as np\n",
        "    import pandas as pd\n",
        "    import matplotlib.pyplot as plt\n",
        "    import tensorflow as tf\n",
        "    from tensorflow import keras\n",
        "    from keras.layers import LSTM, Dense, Flatten\n",
        "    from keras.models import Sequential\n",
        "\n",
        "    #Reading the data\n",
        "    train = pd.read_csv('traindata.csv')\n",
        "    n_steps = 5\n",
        "    #Data Preprocessing\n",
        "    max_training_data = train['Maximum']\n",
        "    max_training_data = np.array(max_training_data)\n",
        "    X, y = [], []\n",
        "    for i in range(len(max_training_data)):\n",
        "        end = i + n_steps\n",
        "        if end >= len(max_training_data):\n",
        "            break\n",
        "        X.append(max_training_data[i:end])\n",
        "        y.append(max_training_data[end])\n",
        "\n",
        "    # Defining the feature vector and the output vector\n",
        "    X, y = prepare_data(max_training_data, n_steps)\n",
        "    n_features = 1\n",
        "\n",
        "    # Reshape the Feature Matrix\n",
        "    X = X.reshape(X.shape[0], X.shape[1], n_features)\n",
        "\n",
        "    #Create the Model\n",
        "    model = Sequential()\n",
        "    model.add(LSTM(31, activation='relu', return_sequences = True, input_shape=(n_steps, n_features)))\n",
        "    model.add(LSTM(31, activation='relu'))\n",
        "    model.add(Dense(1))\n",
        "    model.compile(optimizer = 'adam', loss = 'mse')\n",
        "\n",
        "    #Fitting the Model\n",
        "    model.fit(X, y, epochs=200, verbose=0)\n",
        "\n",
        "    #Testing the Fitted weights\n",
        "    x_input = np.array(pd.read_csv('/content/testdata.csv')['Maximum'][-n_steps:])\n",
        "    temp_input = list(x_input)\n",
        "    output = []\n",
        "    i = 0\n",
        "    while(i < n_steps):\n",
        "        if len(temp_input) > n_steps:\n",
        "            x_input = np.array(temp_input[1:])\n",
        "            x_input = x_input.reshape((1, n_steps, n_features))\n",
        "            yhat = model.predict(x_input, verbose=0)\n",
        "            temp_input.append(yhat[0][0])\n",
        "            temp_input = temp_input[1:]\n",
        "            output.append(yhat[0][0])\n",
        "            i+=1\n",
        "        else:\n",
        "            x_input = x_input.reshape((1, n_steps, n_features))\n",
        "            yhat = model.predict(x_input, verbose=0)\n",
        "            temp_input.append(yhat[0][0])\n",
        "            output.append(yhat[0][0])\n",
        "            i+=1\n",
        "    # print(output)\n",
        "\n",
        "    #Defining the real temperatures for prediction test\n",
        "    real_temperatures = [29, 32, 31, 31, 30]\n",
        "    output = [round(i) for i in output]\n",
        "    print(f'Predicted Values: {output}')\n",
        "    print(f'Actual Values: {real_temperatures}')\n",
        "    print(f'MSE: {mean_squared_error(real_temperatures, output)}')\n",
        "    #Plot the Graph between Real Temperature and Predicted Temperature for the next n_steps days for visualization\n",
        "    plt.plot(real_temperatures, color='red')\n",
        "    plt.plot(output, color='blue')\n",
        "    plt.xticks(list(range(n_steps)))\n",
        "    plt.yticks(np.linspace(0, 40, 5))"
      ]
    },
    {
      "cell_type": "code",
      "execution_count": 80,
      "id": "16c8cfc8",
      "metadata": {
        "colab": {
          "base_uri": "https://localhost:8080/",
          "height": 483
        },
        "id": "16c8cfc8",
        "outputId": "396e1671-08aa-4ae4-bdcc-4f397e2ebf27"
      },
      "outputs": [
        {
          "output_type": "stream",
          "name": "stdout",
          "text": [
            "Predicted Values: [30, 30, 30, 30, 29]\n",
            "Actual Values: [29, 32, 31, 31, 30]\n",
            "MSE: 1.6\n"
          ]
        },
        {
          "output_type": "display_data",
          "data": {
            "text/plain": [
              "<Figure size 640x480 with 1 Axes>"
            ],
            "image/png": "[encoded data removed]"
          },
          "metadata": {}
        }
      ],
      "source": [
        "predictTemperatureMax()"
      ]
    },
    {
      "cell_type": "code",
      "source": [
        "def predictTemperatureMin():\n",
        "    #Importing the required libraries\n",
        "    import numpy as np\n",
        "    import pandas as pd\n",
        "    import matplotlib.pyplot as plt\n",
        "    import tensorflow as tf\n",
        "    from tensorflow import keras\n",
        "    from keras.layers import LSTM, Dense, Flatten\n",
        "    from keras.models import Sequential\n",
        "\n",
        "    #Reading the data\n",
        "    train = pd.read_csv('traindata.csv')\n",
        "    n_steps = 5\n",
        "    #Data Preprocessing\n",
        "    max_training_data = train['Minimum']\n",
        "    max_training_data = np.array(max_training_data)\n",
        "    X, y = [], []\n",
        "    for i in range(len(max_training_data)):\n",
        "        end = i + n_steps\n",
        "        if end >= len(max_training_data):\n",
        "            break\n",
        "        X.append(max_training_data[i:end])\n",
        "        y.append(max_training_data[end])\n",
        "\n",
        "    # Defining the feature vector and the output vector\n",
        "    X, y = prepare_data(max_training_data, n_steps)\n",
        "    n_features = 1\n",
        "\n",
        "    # Reshape the Feature Matrix\n",
        "    X = X.reshape(X.shape[0], X.shape[1], n_features)\n",
        "\n",
        "    #Create the Model\n",
        "    model = Sequential()\n",
        "    model.add(LSTM(31, activation='relu', return_sequences = True, input_shape=(n_steps, n_features)))\n",
        "    model.add(LSTM(31, activation='relu'))\n",
        "    model.compile(optimizer = 'adam', loss = 'mse')\n",
        "\n",
        "    #Fitting the Model\n",
        "    model.fit(X, y, epochs=200, verbose=0)\n",
        "\n",
        "    #Testing the Fitted weights\n",
        "    x_input = np.array(pd.read_csv('/content/testdata.csv')['Minimum'][-n_steps:])\n",
        "    temp_input = list(x_input)\n",
        "    output = []\n",
        "    i = 0\n",
        "    while(i < n_steps):\n",
        "        if len(temp_input) > n_steps:\n",
        "            x_input = np.array(temp_input[1:])\n",
        "            x_input = x_input.reshape((1, n_steps, n_features))\n",
        "            yhat = model.predict(x_input, verbose=0)\n",
        "            temp_input.append(yhat[0][0])\n",
        "            temp_input = temp_input[1:]\n",
        "            output.append(yhat[0][0])\n",
        "            i+=1\n",
        "        else:\n",
        "            x_input = x_input.reshape((1, n_steps, n_features))\n",
        "            yhat = model.predict(x_input, verbose=0)\n",
        "            temp_input.append(yhat[0][0])\n",
        "            output.append(yhat[0][0])\n",
        "            i+=1\n",
        "    # print(output)\n",
        "\n",
        "    #Defining the real temperatures for prediction test\n",
        "    real_temperatures = [23, 23, 24, 22, 23]\n",
        "    output = [round(i) for i in output]\n",
        "    print(f'Predicted Values: {output}')\n",
        "    print(f'Actual Values: {real_temperatures}')\n",
        "    print(f'MSE: {mean_squared_error(real_temperatures, output)}')\n",
        "    #Plot the Graph between Real Temperature and Predicted Temperature for the next n_steps days for visualization\n",
        "    plt.plot(real_temperatures, color='red')\n",
        "    plt.plot(output, color='blue')\n",
        "    plt.xticks(list(range(n_steps)))\n",
        "    plt.yticks(np.linspace(0, 40, 5))"
      ],
      "metadata": {
        "id": "QnE8I6-T3I0U"
      },
      "id": "QnE8I6-T3I0U",
      "execution_count": 81,
      "outputs": []
    },
    {
      "cell_type": "code",
      "source": [
        "predictTemperatureMin()"
      ],
      "metadata": {
        "colab": {
          "base_uri": "https://localhost:8080/",
          "height": 483
        },
        "id": "kTxU94JK9-qG",
        "outputId": "82b9224f-a8e1-4241-c3f6-2b86b1fe314e"
      },
      "id": "kTxU94JK9-qG",
      "execution_count": 82,
      "outputs": [
        {
          "output_type": "stream",
          "name": "stdout",
          "text": [
            "Predicted Values: [23, 23, 23, 23, 23]\n",
            "Actual Values: [23, 23, 24, 22, 23]\n",
            "MSE: 0.4\n"
          ]
        },
        {
          "output_type": "display_data",
          "data": {
            "text/plain": [
              "<Figure size 640x480 with 1 Axes>"
            ],
            "image/png": "[encoded data removed]"
          },
          "metadata": {}
        }
      ]
    },
    {
      "cell_type": "code",
      "source": [],
      "metadata": {
        "id": "JmCcfe6cAS2k"
      },
      "id": "JmCcfe6cAS2k",
      "execution_count": 76,
      "outputs": []
    }
  ],
  "metadata": {
    "kernelspec": {
      "display_name": "Python 3 (ipykernel)",
      "language": "python",
      "name": "python3"
    },
    "language_info": {
      "codemirror_mode": {
        "name": "ipython",
        "version": 3
      },
      "file_extension": ".py",
      "mimetype": "text/x-python",
      "name": "python",
      "nbconvert_exporter": "python",
      "pygments_lexer": "ipython3",
      "version": "3.12.0"
    },
    "colab": {
      "provenance": []
    }
  },
  "nbformat": 4,
  "nbformat_minor": 5
}